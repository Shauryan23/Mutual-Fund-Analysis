{
 "cells": [
  {
   "cell_type": "markdown",
   "metadata": {},
   "source": [
    "### Importing Libraries"
   ]
  },
  {
   "cell_type": "code",
   "execution_count": 25,
   "metadata": {},
   "outputs": [],
   "source": [
    "import numpy as np\n",
    "import pandas as pd"
   ]
  },
  {
   "cell_type": "markdown",
   "metadata": {},
   "source": [
    "### Importing Dataset"
   ]
  },
  {
   "cell_type": "code",
   "execution_count": 26,
   "metadata": {},
   "outputs": [],
   "source": [
    "dataset = pd.read_excel(\"HMF.xlsx\")"
   ]
  },
  {
   "cell_type": "markdown",
   "metadata": {},
   "source": [
    "### Modifying Columns"
   ]
  },
  {
   "cell_type": "code",
   "execution_count": 27,
   "metadata": {},
   "outputs": [],
   "source": [
    "dataset[['Launch_Date']] = dataset[['Launch_Date']].astype(\"string\")"
   ]
  },
  {
   "cell_type": "code",
   "execution_count": 28,
   "metadata": {},
   "outputs": [],
   "source": [
    "def extract_year(arg):\n",
    "    if(arg.item == 'None'):\n",
    "        return\n",
    "    else:\n",
    "        # return arg.str.slice(0, 4)\n",
    "        years = arg.str.slice(0, 4)\n",
    "        return years"
   ]
  },
  {
   "cell_type": "code",
   "execution_count": 29,
   "metadata": {},
   "outputs": [],
   "source": [
    "dataset = dataset.apply(lambda x: extract_year(x) if(x.name == 'Launch_Date') else x)"
   ]
  },
  {
   "cell_type": "code",
   "execution_count": 30,
   "metadata": {},
   "outputs": [],
   "source": [
    "dataset[['Launch_Date']] = dataset[['Launch_Date']].astype(\"int\")"
   ]
  },
  {
   "cell_type": "code",
   "execution_count": 31,
   "metadata": {},
   "outputs": [],
   "source": [
    "def extract_age(arg):\n",
    "    if(arg.item == 'None'):\n",
    "        return\n",
    "    else:\n",
    "        age = 2022 - arg\n",
    "        return age"
   ]
  },
  {
   "cell_type": "code",
   "execution_count": 32,
   "metadata": {},
   "outputs": [],
   "source": [
    "dataset = dataset.apply(lambda x: extract_age(x) if(x.name == 'Launch_Date') else x)"
   ]
  },
  {
   "cell_type": "markdown",
   "metadata": {},
   "source": [
    "### Preview"
   ]
  },
  {
   "cell_type": "code",
   "execution_count": 33,
   "metadata": {},
   "outputs": [
    {
     "data": {
      "text/html": [
       "<div>\n",
       "<style scoped>\n",
       "    .dataframe tbody tr th:only-of-type {\n",
       "        vertical-align: middle;\n",
       "    }\n",
       "\n",
       "    .dataframe tbody tr th {\n",
       "        vertical-align: top;\n",
       "    }\n",
       "\n",
       "    .dataframe thead th {\n",
       "        text-align: right;\n",
       "    }\n",
       "</style>\n",
       "<table border=\"1\" class=\"dataframe\">\n",
       "  <thead>\n",
       "    <tr style=\"text-align: right;\">\n",
       "      <th></th>\n",
       "      <th>Category</th>\n",
       "      <th>Launch_Date</th>\n",
       "      <th>Crisil_Rating</th>\n",
       "      <th>Net_Assets</th>\n",
       "      <th>1_Yr_Return</th>\n",
       "      <th>3_Yr_Return</th>\n",
       "      <th>5_Yr_Return</th>\n",
       "      <th>Risk</th>\n",
       "      <th>Expense_Ratio</th>\n",
       "      <th>Sharpe_Ratio</th>\n",
       "      <th>Sortino_Ratio</th>\n",
       "      <th>Alpha</th>\n",
       "      <th>Beta</th>\n",
       "      <th>Std_Dev</th>\n",
       "      <th>R_Squared</th>\n",
       "      <th>Year_Trailing</th>\n",
       "      <th>Net_Return</th>\n",
       "      <th>Good</th>\n",
       "    </tr>\n",
       "  </thead>\n",
       "  <tbody>\n",
       "    <tr>\n",
       "      <th>0</th>\n",
       "      <td>Arbitrage</td>\n",
       "      <td>16</td>\n",
       "      <td>Rank 1</td>\n",
       "      <td>1397.70</td>\n",
       "      <td>6.52</td>\n",
       "      <td>6.24</td>\n",
       "      <td>6.60</td>\n",
       "      <td>Moderately Low</td>\n",
       "      <td>0.83</td>\n",
       "      <td>-0.03</td>\n",
       "      <td>-0.04</td>\n",
       "      <td>0.60</td>\n",
       "      <td>0.33</td>\n",
       "      <td>0.45</td>\n",
       "      <td>0.00</td>\n",
       "      <td>13</td>\n",
       "      <td>7.40</td>\n",
       "      <td>0</td>\n",
       "    </tr>\n",
       "    <tr>\n",
       "      <th>1</th>\n",
       "      <td>Conservative</td>\n",
       "      <td>19</td>\n",
       "      <td>Rank 1</td>\n",
       "      <td>84.93</td>\n",
       "      <td>7.68</td>\n",
       "      <td>5.92</td>\n",
       "      <td>6.55</td>\n",
       "      <td>Moderate</td>\n",
       "      <td>2.30</td>\n",
       "      <td>-0.08</td>\n",
       "      <td>-0.12</td>\n",
       "      <td>-1.91</td>\n",
       "      <td>0.58</td>\n",
       "      <td>3.07</td>\n",
       "      <td>62.19</td>\n",
       "      <td>16</td>\n",
       "      <td>7.73</td>\n",
       "      <td>0</td>\n",
       "    </tr>\n",
       "    <tr>\n",
       "      <th>2</th>\n",
       "      <td>Conservative</td>\n",
       "      <td>18</td>\n",
       "      <td>Rank 1</td>\n",
       "      <td>1589.42</td>\n",
       "      <td>8.40</td>\n",
       "      <td>9.33</td>\n",
       "      <td>9.92</td>\n",
       "      <td>Moderately High</td>\n",
       "      <td>2.24</td>\n",
       "      <td>0.84</td>\n",
       "      <td>1.36</td>\n",
       "      <td>1.91</td>\n",
       "      <td>1.58</td>\n",
       "      <td>3.57</td>\n",
       "      <td>88.45</td>\n",
       "      <td>15</td>\n",
       "      <td>10.06</td>\n",
       "      <td>1</td>\n",
       "    </tr>\n",
       "    <tr>\n",
       "      <th>3</th>\n",
       "      <td>Arbitrage</td>\n",
       "      <td>12</td>\n",
       "      <td>Rank 2</td>\n",
       "      <td>8535.00</td>\n",
       "      <td>6.64</td>\n",
       "      <td>6.41</td>\n",
       "      <td>6.86</td>\n",
       "      <td>Moderately Low</td>\n",
       "      <td>1.04</td>\n",
       "      <td>0.26</td>\n",
       "      <td>0.45</td>\n",
       "      <td>0.70</td>\n",
       "      <td>1.30</td>\n",
       "      <td>0.54</td>\n",
       "      <td>85.00</td>\n",
       "      <td>8</td>\n",
       "      <td>17.83</td>\n",
       "      <td>1</td>\n",
       "    </tr>\n",
       "    <tr>\n",
       "      <th>4</th>\n",
       "      <td>Arbitrage</td>\n",
       "      <td>17</td>\n",
       "      <td>Rank 2</td>\n",
       "      <td>13360.00</td>\n",
       "      <td>6.56</td>\n",
       "      <td>6.32</td>\n",
       "      <td>6.75</td>\n",
       "      <td>Moderately Low</td>\n",
       "      <td>0.97</td>\n",
       "      <td>0.14</td>\n",
       "      <td>0.23</td>\n",
       "      <td>0.56</td>\n",
       "      <td>1.26</td>\n",
       "      <td>0.45</td>\n",
       "      <td>87.45</td>\n",
       "      <td>13</td>\n",
       "      <td>18.45</td>\n",
       "      <td>1</td>\n",
       "    </tr>\n",
       "  </tbody>\n",
       "</table>\n",
       "</div>"
      ],
      "text/plain": [
       "        Category  Launch_Date Crisil_Rating  Net_Assets  1_Yr_Return  \\\n",
       "0      Arbitrage           16        Rank 1     1397.70         6.52   \n",
       "1  Conservative            19        Rank 1       84.93         7.68   \n",
       "2  Conservative            18        Rank 1     1589.42         8.40   \n",
       "3      Arbitrage           12        Rank 2     8535.00         6.64   \n",
       "4      Arbitrage           17        Rank 2    13360.00         6.56   \n",
       "\n",
       "   3_Yr_Return  5_Yr_Return             Risk  Expense_Ratio  Sharpe_Ratio  \\\n",
       "0         6.24         6.60   Moderately Low           0.83         -0.03   \n",
       "1         5.92         6.55         Moderate           2.30         -0.08   \n",
       "2         9.33         9.92  Moderately High           2.24          0.84   \n",
       "3         6.41         6.86   Moderately Low           1.04          0.26   \n",
       "4         6.32         6.75   Moderately Low           0.97          0.14   \n",
       "\n",
       "   Sortino_Ratio  Alpha  Beta  Std_Dev  R_Squared  Year_Trailing  Net_Return  \\\n",
       "0          -0.04   0.60  0.33     0.45       0.00             13        7.40   \n",
       "1          -0.12  -1.91  0.58     3.07      62.19             16        7.73   \n",
       "2           1.36   1.91  1.58     3.57      88.45             15       10.06   \n",
       "3           0.45   0.70  1.30     0.54      85.00              8       17.83   \n",
       "4           0.23   0.56  1.26     0.45      87.45             13       18.45   \n",
       "\n",
       "   Good  \n",
       "0     0  \n",
       "1     0  \n",
       "2     1  \n",
       "3     1  \n",
       "4     1  "
      ]
     },
     "execution_count": 33,
     "metadata": {},
     "output_type": "execute_result"
    }
   ],
   "source": [
    "dataset.head()"
   ]
  },
  {
   "cell_type": "code",
   "execution_count": 34,
   "metadata": {},
   "outputs": [
    {
     "data": {
      "text/plain": [
       "(30, 18)"
      ]
     },
     "execution_count": 34,
     "metadata": {},
     "output_type": "execute_result"
    }
   ],
   "source": [
    "dataset.shape"
   ]
  },
  {
   "cell_type": "code",
   "execution_count": 35,
   "metadata": {},
   "outputs": [
    {
     "data": {
      "text/plain": [
       "Category          object\n",
       "Launch_Date        int32\n",
       "Crisil_Rating     object\n",
       "Net_Assets       float64\n",
       "1_Yr_Return      float64\n",
       "3_Yr_Return      float64\n",
       "5_Yr_Return      float64\n",
       "Risk              object\n",
       "Expense_Ratio    float64\n",
       "Sharpe_Ratio     float64\n",
       "Sortino_Ratio    float64\n",
       "Alpha            float64\n",
       "Beta             float64\n",
       "Std_Dev          float64\n",
       "R_Squared        float64\n",
       "Year_Trailing      int64\n",
       "Net_Return       float64\n",
       "Good               int64\n",
       "dtype: object"
      ]
     },
     "execution_count": 35,
     "metadata": {},
     "output_type": "execute_result"
    }
   ],
   "source": [
    "dataset.dtypes"
   ]
  },
  {
   "cell_type": "code",
   "execution_count": 36,
   "metadata": {},
   "outputs": [
    {
     "data": {
      "text/plain": [
       "Category         0\n",
       "Launch_Date      0\n",
       "Crisil_Rating    0\n",
       "Net_Assets       0\n",
       "1_Yr_Return      0\n",
       "3_Yr_Return      0\n",
       "5_Yr_Return      0\n",
       "Risk             0\n",
       "Expense_Ratio    0\n",
       "Sharpe_Ratio     0\n",
       "Sortino_Ratio    0\n",
       "Alpha            0\n",
       "Beta             0\n",
       "Std_Dev          0\n",
       "R_Squared        0\n",
       "Year_Trailing    0\n",
       "Net_Return       0\n",
       "Good             0\n",
       "dtype: int64"
      ]
     },
     "execution_count": 36,
     "metadata": {},
     "output_type": "execute_result"
    }
   ],
   "source": [
    "dataset.isnull().sum()"
   ]
  },
  {
   "cell_type": "markdown",
   "metadata": {},
   "source": [
    "### Encoding Categorical Data"
   ]
  },
  {
   "cell_type": "code",
   "execution_count": 37,
   "metadata": {},
   "outputs": [
    {
     "data": {
      "text/plain": [
       "OneHotEncoder()"
      ]
     },
     "execution_count": 37,
     "metadata": {},
     "output_type": "execute_result"
    }
   ],
   "source": [
    "from sklearn.preprocessing import OneHotEncoder\n",
    "ohe = OneHotEncoder()\n",
    "ohe.fit(dataset[['Category', 'Crisil_Rating', 'Risk']])"
   ]
  },
  {
   "cell_type": "code",
   "execution_count": 38,
   "metadata": {},
   "outputs": [],
   "source": [
    "encoded = pd.DataFrame.sparse.from_spmatrix(ohe.transform(dataset[['Category', 'Crisil_Rating', 'Risk']]))"
   ]
  },
  {
   "cell_type": "code",
   "execution_count": 39,
   "metadata": {},
   "outputs": [],
   "source": [
    "dataset.drop(['Category', 'Crisil_Rating', 'Risk'], axis='columns', inplace=True)"
   ]
  },
  {
   "cell_type": "code",
   "execution_count": 40,
   "metadata": {},
   "outputs": [],
   "source": [
    "dataset = pd.concat([encoded, dataset], axis=1)"
   ]
  },
  {
   "cell_type": "markdown",
   "metadata": {},
   "source": [
    "## Splitting the dataset into the Training set and Test set"
   ]
  },
  {
   "cell_type": "code",
   "execution_count": 41,
   "metadata": {},
   "outputs": [],
   "source": [
    "from sklearn.model_selection import train_test_split\n",
    "X = dataset.iloc[:, :-1].values\n",
    "y = dataset.iloc[:, -1].values\n",
    "X_train, X_test, y_train, y_test = train_test_split(X, y, test_size = 0.2, random_state = 0)"
   ]
  },
  {
   "cell_type": "markdown",
   "metadata": {},
   "source": [
    "## Feature Scaling"
   ]
  },
  {
   "cell_type": "code",
   "execution_count": 42,
   "metadata": {},
   "outputs": [],
   "source": [
    "# Scaling URL_LENGTH & NUMBER_SPECIAL_CHARACTERS\n",
    "\n",
    "from sklearn.preprocessing import StandardScaler\n",
    "# Scaling X_train\n",
    "X_train_features = X_train[:, -2:]\n",
    "\n",
    "scaler = StandardScaler().fit(X_train_features)\n",
    "X_train_features = scaler.transform(X_train_features)\n",
    "\n",
    "X_train[:, -2:] = X_train_features\n",
    "\n",
    "# Scaling X_test\n",
    "X_test_features = X_test[:, -2:]\n",
    "\n",
    "scaler = StandardScaler().fit(X_test_features)\n",
    "X_test_features = scaler.transform(X_test_features)\n",
    "\n",
    "X_test[:, -2:] = X_test_features"
   ]
  },
  {
   "cell_type": "markdown",
   "metadata": {},
   "source": [
    "## Training KNN Model"
   ]
  },
  {
   "cell_type": "code",
   "execution_count": 43,
   "metadata": {},
   "outputs": [
    {
     "data": {
      "text/plain": [
       "KNeighborsClassifier(n_neighbors=4)"
      ]
     },
     "execution_count": 43,
     "metadata": {},
     "output_type": "execute_result"
    }
   ],
   "source": [
    "from sklearn.neighbors import KNeighborsClassifier\n",
    "classifier = KNeighborsClassifier(n_neighbors = 4, metric = 'minkowski', p = 2)\n",
    "classifier.fit(X_train, y_train)"
   ]
  },
  {
   "cell_type": "markdown",
   "metadata": {},
   "source": [
    "## Confusion Matrix"
   ]
  },
  {
   "cell_type": "code",
   "execution_count": 44,
   "metadata": {},
   "outputs": [],
   "source": [
    "y_pred = classifier.predict(X_test)"
   ]
  },
  {
   "cell_type": "code",
   "execution_count": 45,
   "metadata": {},
   "outputs": [
    {
     "name": "stdout",
     "output_type": "stream",
     "text": [
      "[[3 1]\n",
      " [2 0]]\n"
     ]
    },
    {
     "data": {
      "text/plain": [
       "0.5"
      ]
     },
     "execution_count": 45,
     "metadata": {},
     "output_type": "execute_result"
    }
   ],
   "source": [
    "from sklearn.metrics import confusion_matrix, accuracy_score\n",
    "cm = confusion_matrix(y_test, y_pred)\n",
    "print(cm)\n",
    "accuracy_score(y_test, y_pred)"
   ]
  }
 ],
 "metadata": {
  "interpreter": {
   "hash": "16e6d4416837aa69ac450a97991d2e9bdda02c348f23ce30b96dd812591fc704"
  },
  "kernelspec": {
   "display_name": "Python 3.9.1 64-bit",
   "language": "python",
   "name": "python3"
  },
  "language_info": {
   "codemirror_mode": {
    "name": "ipython",
    "version": 3
   },
   "file_extension": ".py",
   "mimetype": "text/x-python",
   "name": "python",
   "nbconvert_exporter": "python",
   "pygments_lexer": "ipython3",
   "version": "3.9.1"
  },
  "orig_nbformat": 4
 },
 "nbformat": 4,
 "nbformat_minor": 2
}
